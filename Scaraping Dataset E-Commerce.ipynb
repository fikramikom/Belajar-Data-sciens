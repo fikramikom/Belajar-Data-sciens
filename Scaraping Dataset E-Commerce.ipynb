{
  "nbformat": 4,
  "nbformat_minor": 0,
  "metadata": {
    "colab": {
      "provenance": [],
      "authorship_tag": "ABX9TyN/+tQk6u8goqFs9U0oz12o",
      "include_colab_link": true
    },
    "kernelspec": {
      "name": "python3",
      "display_name": "Python 3"
    },
    "language_info": {
      "name": "python"
    }
  },
  "cells": [
    {
      "cell_type": "markdown",
      "metadata": {
        "id": "view-in-github",
        "colab_type": "text"
      },
      "source": [
        "<a href=\"https://colab.research.google.com/github/fikramikom/Belajar-Data-sciens/blob/main/Scaraping%20Dataset%20E-Commerce.ipynb\" target=\"_parent\"><img src=\"https://colab.research.google.com/assets/colab-badge.svg\" alt=\"Open In Colab\"/></a>"
      ]
    },
    {
      "cell_type": "code",
      "execution_count": null,
      "metadata": {
        "id": "lE03i-cZhxL1"
      },
      "outputs": [],
      "source": [
        "import re\n",
        "import requests\n",
        "import pandas as pd"
      ]
    },
    {
      "cell_type": "code",
      "source": [
        "url = 'https://shopee.co.id/Converse-Chuck-70-OX-Unisex-Sneakers-Black-i.611853653.15333362478?xptdk=56acb81a-3562-411f-a825-1f690739a6ed'\n",
        "r = re.search(r'i\\.(\\d+)\\.(\\d+)', url)\n",
        "\n",
        "shop_id, item_id = r[1], r[2]\n",
        "\n",
        "ratings_url = 'https://shopee.co.id/api/v2/item/get_ratings?filter=0&flag=1&itemid={item_id}&limit=20&offset={offset}&shopid={shop_id}&type=0'"
      ],
      "metadata": {
        "id": "3bbysKLbhySO"
      },
      "execution_count": null,
      "outputs": []
    },
    {
      "cell_type": "code",
      "source": [
        "offset = 0\n",
        "data = {'username': [], 'comment': [], 'rating': []}\n",
        "\n",
        "while True:\n",
        "  meta = requests.get(ratings_url.format(shop_id=shop_id, item_id=item_id, offset=offset)).json()\n",
        "  i = 1\n",
        "  for i, rating in enumerate(meta['data']['ratings'], 1):\n",
        "    data['rating'].append(rating['rating_star'])\n",
        "    data['username'].append(rating['author_username'])\n",
        "    data['comment'].append(rating['comment'])\n",
        "\n",
        "  # menghentikan perulangan\n",
        "  if i % 20:\n",
        "    break\n",
        "\n",
        "  offset += 20"
      ],
      "metadata": {
        "id": "FQYTlBa2h2f0"
      },
      "execution_count": null,
      "outputs": []
    },
    {
      "cell_type": "code",
      "source": [
        "df = pd.DataFrame(data)\n",
        "\n",
        "# Cetak dataframe\n",
        "df.head()"
      ],
      "metadata": {
        "id": "US5Zv5EglPkR"
      },
      "execution_count": null,
      "outputs": []
    },
    {
      "cell_type": "code",
      "source": [
        "df.to_csv(\"sepatu_converse2.csv\")"
      ],
      "metadata": {
        "id": "Ket5LuihmDLH"
      },
      "execution_count": null,
      "outputs": []
    },
    {
      "cell_type": "code",
      "source": [
        "df.isnull().sum()"
      ],
      "metadata": {
        "id": "htPsZphqX-ih"
      },
      "execution_count": null,
      "outputs": []
    }
  ]
}